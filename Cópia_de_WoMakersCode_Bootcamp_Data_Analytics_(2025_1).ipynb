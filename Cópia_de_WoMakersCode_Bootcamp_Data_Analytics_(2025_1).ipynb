{
  "cells": [
    {
      "cell_type": "markdown",
      "metadata": {
        "id": "view-in-github",
        "colab_type": "text"
      },
      "source": [
        "<a href=\"https://colab.research.google.com/github/HelenaSotoc/HelloWorld/blob/main/C%C3%B3pia_de_WoMakersCode_Bootcamp_Data_Analytics_(2025_1).ipynb\" target=\"_parent\"><img src=\"https://colab.research.google.com/assets/colab-badge.svg\" alt=\"Open In Colab\"/></a>"
      ]
    },
    {
      "cell_type": "markdown",
      "metadata": {
        "id": "fZu819fMQNKI"
      },
      "source": [
        "DESAFIO 1\n",
        "\n",
        "Crie um programa que solicita ao usuário que insira três notas (valores de 0 a 10) e, em seguida, calcule e exiba a média dessas notas.\n",
        "\n",
        "Além disso, informe ao usuário se ele foi aprovado ou reprovado com base na média das notas, considerando a média mínima de aprovação como 6."
      ]
    },
    {
      "cell_type": "code",
      "execution_count": null,
      "metadata": {
        "colab": {
          "base_uri": "https://localhost:8080/"
        },
        "id": "tjM2VWBwQSJE",
        "outputId": "c5426ffb-8aaa-40e9-c3c7-21c8203a0e81"
      },
      "outputs": [
        {
          "name": "stdout",
          "output_type": "stream",
          "text": [
            "Insira a primeira nota (0 a 10): 4\n",
            "Insira a segunda nota (0 a 10): 5\n",
            "Insira a terceira nota (0 a 10): 6\n",
            "Sua média é: 5.00\n",
            "Infelizmente, você foi reprovado.\n"
          ]
        }
      ],
      "source": [
        "\n",
        "# função estabelecida para calcular a média de três notas\n",
        "\n",
        "def calcular_media(nota1, nota2, nota3):\n",
        "    return (nota1 + nota2 + nota3) / 3\n",
        "\n",
        "# Pede que o usuário insira 3 notas\n",
        "def main():\n",
        "    nota1 = float(input(\"Insira a primeira nota (0 a 10): \"))\n",
        "    nota2 = float(input(\"Insira a segunda nota (0 a 10): \"))\n",
        "    nota3 = float(input(\"Insira a terceira nota (0 a 10): \"))\n",
        "\n",
        " # Calcula a média\n",
        "    media = calcular_media(nota1, nota2, nota3)\n",
        "\n",
        "     # Exibe a média\n",
        "    print(f\"Sua média é: {media:.2f}\")\n",
        "\n",
        "    # Verifica se o usuário foi aprovado ou reprovado\n",
        "    if media >= 6:\n",
        "        print(\"Parabéns! Você foi aprovado.\")\n",
        "    else:\n",
        "        print(\"Infelizmente, você foi reprovado.\")\n",
        "\n",
        "# Executa o programa\n",
        "if __name__ == \"__main__\":\n",
        "    main()\n"
      ]
    },
    {
      "cell_type": "markdown",
      "metadata": {
        "id": "_m8mBod2g9Iv"
      },
      "source": [
        "DESAFIO 2\n",
        "\n",
        "Escreva um programa que receba uma string e conte quantas vogais (a, e, i, o, u) ela contém."
      ]
    },
    {
      "cell_type": "code",
      "execution_count": null,
      "metadata": {
        "colab": {
          "base_uri": "https://localhost:8080/"
        },
        "id": "G3MkSdjIfMay",
        "outputId": "369ef1d4-63b5-496d-8ff2-04ba4d50849b"
      },
      "outputs": [
        {
          "name": "stdout",
          "output_type": "stream",
          "text": [
            "Digite uma string: helena\n",
            "A string contém 3 vogais.\n"
          ]
        }
      ],
      "source": [
        "# Função para contar quantas vogais a string tem\n",
        "def conta_vogais(texto):\n",
        "    # Definição das vogais que serão contadas\n",
        "    vogais = \"aeiou\"\n",
        "\n",
        "    # Iniciamos a contagem\n",
        "    contador = 0\n",
        "\n",
        "    # Percorre cada letra no texto\n",
        "    for letra in texto:\n",
        "        if letra in vogais:  # Verifica se a letra é uma vogal\n",
        "            contador += 1  # Incrementa o contador se for uma vogal\n",
        "    return contador # Indentação corrigida: Movido para fora do loop\n",
        "\n",
        "# Função principal\n",
        "def main():\n",
        "    # Solicita ao usuário que insira uma string\n",
        "    texto = input(\"Digite uma string: \")\n",
        "\n",
        "    # Conta o número de vogais\n",
        "    numero_de_vogais = conta_vogais(texto)\n",
        "\n",
        "    # Exibe o número de vogais encontradas\n",
        "    print(f\"A string contém {numero_de_vogais} vogais.\")\n",
        "\n",
        "# Executa o programa\n",
        "if __name__ == \"__main__\":\n",
        "    main()\n"
      ]
    },
    {
      "cell_type": "markdown",
      "metadata": {
        "id": "azEJl_Q6cFFz"
      },
      "source": [
        "DESAFIO 3\n",
        "\n",
        "Escreva um programa em que o computador escolhe um número aleatório entre 1 e 100 e o usuário tenta adivinhar. O programa deve informar se o palpite é muito alto, muito baixo ou correto."
      ]
    },
    {
      "cell_type": "code",
      "execution_count": null,
      "metadata": {
        "colab": {
          "base_uri": "https://localhost:8080/"
        },
        "id": "4kz8g_Z5qGB1",
        "outputId": "5c20500b-60c5-4279-ce56-d880acfff3e5"
      },
      "outputs": [
        {
          "name": "stdout",
          "output_type": "stream",
          "text": [
            "Tente adivinhar o número secreto entre 1 e 100!\n",
            "Qual é o seu palpite? 50\n",
            "Muito alto! Tente um número menor.\n",
            "Qual é o seu palpite? 43\n",
            "Muito alto! Tente um número menor.\n",
            "Qual é o seu palpite? 20\n",
            "Muito alto! Tente um número menor.\n",
            "Qual é o seu palpite? 5\n",
            "Muito alto! Tente um número menor.\n",
            "Qual é o seu palpite? 1\n",
            "Parabéns! Você adivinhou o número correto!\n"
          ]
        }
      ],
      "source": [
        "import random\n",
        "\n",
        "# Gera um número aleatório entre 1 e 100\n",
        "numero_secreto = random.randint(1, 100)\n",
        "\n",
        "# Inicia uma flag para controlar o loop\n",
        "adivinhou = False\n",
        "\n",
        "print(\"Tente adivinhar o número secreto entre 1 e 100!\")\n",
        "\n",
        "# Loop até o usuário acertar o número\n",
        "while not adivinhou:\n",
        "    # Pede ao usuário um palpite\n",
        "    palpite = int(input(\"Qual é o seu palpite? \"))\n",
        "\n",
        "    # Verifica se o palpite está correto\n",
        "    if palpite == numero_secreto:\n",
        "        print(\"Parabéns! Você adivinhou o número correto!\")\n",
        "        adivinhou = True\n",
        "    elif palpite < numero_secreto:\n",
        "        print(\"Muito baixo! Tente um número maior.\")\n",
        "    else:\n",
        "        print(\"Muito alto! Tente um número menor.\")\n"
      ]
    },
    {
      "cell_type": "markdown",
      "metadata": {
        "id": "qk4Gw-GAqFjY"
      },
      "source": [
        "DESAFIO 4\n",
        "\n",
        "Crie um programa que permita ao usuário gerenciar suas tarefas diárias. O programa deve oferecer as seguintes funcionalidades:\n",
        "\n",
        "Adicionar uma nova tarefa;\n",
        "\n",
        "Visualizar todas as tarefas;\n",
        "\n",
        "Remover uma tarefa;\n",
        "\n",
        "Sair do programa.\n",
        "\n",
        "(Você pode implementar essas funcionalidades usando listas para armazenar as tarefas e estruturas de controle como loops e condicionais para interagir com o usuário.)"
      ]
    },
    {
      "cell_type": "code",
      "execution_count": null,
      "metadata": {
        "colab": {
          "base_uri": "https://localhost:8080/"
        },
        "id": "FOtsBTYecOUJ",
        "outputId": "57d1a059-8885-445a-8f45-47c0f1a10477"
      },
      "outputs": [
        {
          "name": "stdout",
          "output_type": "stream",
          "text": [
            "\n",
            "----- Menu de Tarefas -----\n",
            "1. Adicionar tarefa\n",
            "2. Ver tarefas\n",
            "3. Remover tarefa\n",
            "4. Sair\n",
            "Escolha uma opção: fazer comida\n",
            "Opção inválida. Escolha novamente.\n",
            "\n",
            "----- Menu de Tarefas -----\n",
            "1. Adicionar tarefa\n",
            "2. Ver tarefas\n",
            "3. Remover tarefa\n",
            "4. Sair\n",
            "Escolha uma opção: 1\n",
            "Digite uma tarefa para adicionar: fazer comida\n",
            "Tarefa adicionada com sucesso!\n",
            "\n",
            "----- Menu de Tarefas -----\n",
            "1. Adicionar tarefa\n",
            "2. Ver tarefas\n",
            "3. Remover tarefa\n",
            "4. Sair\n",
            "Escolha uma opção: 4\n",
            "Até mais!\n"
          ]
        }
      ],
      "source": [
        "# Lista para armazenar as tarefas\n",
        "tarefas = []\n",
        "\n",
        "# Função para adicionar uma nova tarefa\n",
        "def adicionar_tarefa(tarefa):\n",
        "    tarefas.append(tarefa)\n",
        "    print(f\"Tarefa '{tarefa}' adicionada com sucesso!\")\n",
        "\n",
        "# Lista para armazenar as tarefas\n",
        "tarefas = []\n",
        "\n",
        "# Função para adicionar uma nova tarefa\n",
        "def adicionar_tarefa():\n",
        "    tarefa = input(\"Digite uma tarefa para adicionar: \")\n",
        "    tarefas.append(tarefa)\n",
        "    print(\"Tarefa adicionada com sucesso!\")\n",
        "\n",
        "# Função para ver todas as tarefas\n",
        "def ver_tarefas():\n",
        "    if len(tarefas) == 0:\n",
        "        print(\"Você não tem nenhuma tarefa no momento.\")\n",
        "    else:\n",
        "        print(\"Tarefas:\")\n",
        "        for i in range(len(tarefas)):\n",
        "            print(f\"{i + 1}. {tarefas[i]}\")\n",
        "\n",
        "# Função para remover uma tarefa\n",
        "def remover_tarefa():\n",
        "    ver_tarefas()\n",
        "    num = int(input(\"Digite o número da tarefa que deseja remover: \")) - 1\n",
        "    if 0 <= num < len(tarefas):\n",
        "        tarefa = tarefas.pop(num)\n",
        "        print(f\"Tarefa '{tarefa}' removida.\")\n",
        "    else:\n",
        "        print(\"Número inválido. Tente novamente.\")\n",
        "\n",
        "# Menu principal\n",
        "def menu_tarefas():\n",
        "    while True:\n",
        "        print(\"\\n----- Menu de Tarefas -----\")\n",
        "        print(\"1. Adicionar tarefa\")\n",
        "        print(\"2. Ver tarefas\")\n",
        "        print(\"3. Remover tarefa\")\n",
        "        print(\"4. Sair\")\n",
        "\n",
        "        escolha = input(\"Escolha uma opção: \")\n",
        "\n",
        "        if escolha == '1':\n",
        "            adicionar_tarefa()\n",
        "        elif escolha == '2':\n",
        "            ver_tarefas()\n",
        "        elif escolha == '3':\n",
        "            remover_tarefa()\n",
        "        elif escolha == '4':\n",
        "            print(\"Até mais!\")\n",
        "            break\n",
        "        else:\n",
        "            print(\"Opção inválida. Escolha novamente.\")\n",
        "\n",
        "# Executa o menu\n",
        "menu_tarefas()\n",
        "\n"
      ]
    },
    {
      "cell_type": "markdown",
      "metadata": {
        "id": "cpVCv8m5QNm9"
      },
      "source": [
        "DESAFIO 5\n",
        "\n",
        "Escreva um programa em Python que funcione como uma calculadora simples. Ele deve pedir ao usuário para inserir dois números e, em seguida, solicitar a operação que deseja realizar (adição, subtração, multiplicação ou divisão)."
      ]
    },
    {
      "cell_type": "code",
      "execution_count": null,
      "metadata": {
        "colab": {
          "background_save": true,
          "base_uri": "https://localhost:8080/"
        },
        "id": "rGHbvDFVcGzy",
        "outputId": "3884311f-3ba8-4c2c-d34e-3c35267fde99"
      },
      "outputs": [
        {
          "name": "stdout",
          "output_type": "stream",
          "text": [
            "\n",
            "Escolha a operação:\n",
            "1. Adição\n",
            "2. Subtração\n",
            "3. Multiplicação\n",
            "4. Divisão\n",
            "5. Sair\n",
            "O resultado é: 30.0\n",
            "\n"
          ]
        }
      ],
      "source": [
        "# Função para realizar as operações básicas\n",
        "def calcular(num1, num2, operacao):  # A função calcular e recebe os dois números e a operação a ser realizada\n",
        "    \"\"\"\n",
        "    Args:\n",
        "        num1: Primeiro número\n",
        "        num2: Segundo número\n",
        "        operacao: Operação a ser realizada\n",
        "    Returns:\n",
        "        Resultado da operação\n",
        "    \"\"\"\n",
        "\n",
        "    if operacao == '1':              # Código usa declarações condicionais (if, elif) para determinar qual operação matemática deve ser realizada,\n",
        "        return num1 + num2            # com base na escolha do usuário e retorna o resultado correspondente\n",
        "    elif operacao == '2':\n",
        "        return num1 - num2\n",
        "    elif operacao == '3':\n",
        "        return num1 * num2\n",
        "    elif operacao == '4':\n",
        "        return num1 / num2\n",
        "    else:\n",
        "        return \"Operação inválida.\"  # Caso a operação seja inválida\n",
        "\n",
        "# Função principal do programa\n",
        "def calculadora():\n",
        "    while True:                      #Ela usa um loop para manter a calculadora funcionando até que o usuário escolha sair\n",
        "        try:\n",
        "            num1 = float(input(\"Digite o primeiro número: \")) # Dentro do loop ela pede dois números e trata erros de entrada\n",
        "            num2 = float(input(\"Digite o segundo número: \"))\n",
        "        except ValueError:\n",
        "            print(\"Entrada inválida. Por favor, digite números válidos.\")\n",
        "            continue\n",
        "\n",
        "        print(\"\\nEscolha a operação:\")   # Depois de receber os números, ela exibe um menu com as operações disponíveis\n",
        "        print(\"1. Adição\")\n",
        "        print(\"2. Subtração\")\n",
        "        print(\"3. Multiplicação\")\n",
        "        print(\"4. Divisão\")\n",
        "        print(\"5. Sair\")\n",
        "\n",
        "        operacao = input(\"Digite o número da operação desejada: \")  # Ela pede ao usuário que escolha uma operação\n",
        "\n",
        "        if operacao == '5':\n",
        "            print(\"Saindo da calculadora... Até logo!\")\n",
        "            break\n",
        "\n",
        "        resultado = calcular(num1, num2, operacao)\n",
        "        print(f\"O resultado é: {resultado}\\n\")\n",
        "\n",
        "# Executa a função principal\n",
        "calculadora()\n"
      ]
    }
  ],
  "metadata": {
    "colab": {
      "provenance": [],
      "include_colab_link": true
    },
    "kernelspec": {
      "display_name": "Python 3",
      "name": "python3"
    },
    "language_info": {
      "name": "python"
    }
  },
  "nbformat": 4,
  "nbformat_minor": 0
}